{
  "nbformat": 4,
  "nbformat_minor": 0,
  "metadata": {
    "colab": {
      "provenance": [],
      "authorship_tag": "ABX9TyNzUHq+ljoGvRcjboGKv8Jw",
      "include_colab_link": true
    },
    "kernelspec": {
      "name": "python3",
      "display_name": "Python 3"
    },
    "language_info": {
      "name": "python"
    }
  },
  "cells": [
    {
      "cell_type": "markdown",
      "metadata": {
        "id": "view-in-github",
        "colab_type": "text"
      },
      "source": [
        "<a href=\"https://colab.research.google.com/github/fabriciocarraro/Google-ADK_AI-Agent-for-social-media/blob/main/Google_ADK_AI_Agent_for_social_media.ipynb\" target=\"_parent\"><img src=\"https://colab.research.google.com/assets/colab-badge.svg\" alt=\"Open In Colab\"/></a>"
      ]
    },
    {
      "cell_type": "code",
      "execution_count": 1,
      "metadata": {
        "colab": {
          "base_uri": "https://localhost:8080/"
        },
        "id": "nhK7avAouT7O",
        "outputId": "6f1f97c3-30e2-498c-a048-1fe43f458aa1"
      },
      "outputs": [
        {
          "output_type": "stream",
          "name": "stdout",
          "text": [
            "\u001b[?25l   \u001b[90m━━━━━━━━━━━━━━━━━━━━━━━━━━━━━━━━━━━━━━━━\u001b[0m \u001b[32m0.0/1.2 MB\u001b[0m \u001b[31m?\u001b[0m eta \u001b[36m-:--:--\u001b[0m\r\u001b[2K   \u001b[91m━━━━━━━━━━━━━━━━━━━━━━━━━━━━━━━━━━━━━━━\u001b[0m\u001b[91m╸\u001b[0m \u001b[32m1.2/1.2 MB\u001b[0m \u001b[31m111.3 MB/s\u001b[0m eta \u001b[36m0:00:01\u001b[0m\r\u001b[2K   \u001b[90m━━━━━━━━━━━━━━━━━━━━━━━━━━━━━━━━━━━━━━━━\u001b[0m \u001b[32m1.2/1.2 MB\u001b[0m \u001b[31m28.3 MB/s\u001b[0m eta \u001b[36m0:00:00\u001b[0m\n",
            "\u001b[?25h\u001b[?25l   \u001b[90m━━━━━━━━━━━━━━━━━━━━━━━━━━━━━━━━━━━━━━━━\u001b[0m \u001b[32m0.0/232.1 kB\u001b[0m \u001b[31m?\u001b[0m eta \u001b[36m-:--:--\u001b[0m\r\u001b[2K   \u001b[90m━━━━━━━━━━━━━━━━━━━━━━━━━━━━━━━━━━━━━━━━\u001b[0m \u001b[32m232.1/232.1 kB\u001b[0m \u001b[31m14.1 MB/s\u001b[0m eta \u001b[36m0:00:00\u001b[0m\n",
            "\u001b[?25h\u001b[?25l   \u001b[90m━━━━━━━━━━━━━━━━━━━━━━━━━━━━━━━━━━━━━━━━\u001b[0m \u001b[32m0.0/95.2 kB\u001b[0m \u001b[31m?\u001b[0m eta \u001b[36m-:--:--\u001b[0m\r\u001b[2K   \u001b[90m━━━━━━━━━━━━━━━━━━━━━━━━━━━━━━━━━━━━━━━━\u001b[0m \u001b[32m95.2/95.2 kB\u001b[0m \u001b[31m5.6 MB/s\u001b[0m eta \u001b[36m0:00:00\u001b[0m\n",
            "\u001b[?25h\u001b[?25l   \u001b[90m━━━━━━━━━━━━━━━━━━━━━━━━━━━━━━━━━━━━━━━━\u001b[0m \u001b[32m0.0/217.1 kB\u001b[0m \u001b[31m?\u001b[0m eta \u001b[36m-:--:--\u001b[0m\r\u001b[2K   \u001b[90m━━━━━━━━━━━━━━━━━━━━━━━━━━━━━━━━━━━━━━━━\u001b[0m \u001b[32m217.1/217.1 kB\u001b[0m \u001b[31m14.8 MB/s\u001b[0m eta \u001b[36m0:00:00\u001b[0m\n",
            "\u001b[2K   \u001b[90m━━━━━━━━━━━━━━━━━━━━━━━━━━━━━━━━━━━━━━━━\u001b[0m \u001b[32m334.1/334.1 kB\u001b[0m \u001b[31m18.9 MB/s\u001b[0m eta \u001b[36m0:00:00\u001b[0m\n",
            "\u001b[2K   \u001b[90m━━━━━━━━━━━━━━━━━━━━━━━━━━━━━━━━━━━━━━━━\u001b[0m \u001b[32m76.1/76.1 kB\u001b[0m \u001b[31m5.4 MB/s\u001b[0m eta \u001b[36m0:00:00\u001b[0m\n",
            "\u001b[2K   \u001b[90m━━━━━━━━━━━━━━━━━━━━━━━━━━━━━━━━━━━━━━━━\u001b[0m \u001b[32m65.3/65.3 kB\u001b[0m \u001b[31m4.5 MB/s\u001b[0m eta \u001b[36m0:00:00\u001b[0m\n",
            "\u001b[2K   \u001b[90m━━━━━━━━━━━━━━━━━━━━━━━━━━━━━━━━━━━━━━━━\u001b[0m \u001b[32m119.0/119.0 kB\u001b[0m \u001b[31m8.6 MB/s\u001b[0m eta \u001b[36m0:00:00\u001b[0m\n",
            "\u001b[2K   \u001b[90m━━━━━━━━━━━━━━━━━━━━━━━━━━━━━━━━━━━━━━━━\u001b[0m \u001b[32m188.4/188.4 kB\u001b[0m \u001b[31m11.7 MB/s\u001b[0m eta \u001b[36m0:00:00\u001b[0m\n",
            "\u001b[2K   \u001b[90m━━━━━━━━━━━━━━━━━━━━━━━━━━━━━━━━━━━━━━━━\u001b[0m \u001b[32m62.5/62.5 kB\u001b[0m \u001b[31m4.3 MB/s\u001b[0m eta \u001b[36m0:00:00\u001b[0m\n",
            "\u001b[2K   \u001b[90m━━━━━━━━━━━━━━━━━━━━━━━━━━━━━━━━━━━━━━━━\u001b[0m \u001b[32m103.3/103.3 kB\u001b[0m \u001b[31m7.8 MB/s\u001b[0m eta \u001b[36m0:00:00\u001b[0m\n",
            "\u001b[2K   \u001b[90m━━━━━━━━━━━━━━━━━━━━━━━━━━━━━━━━━━━━━━━━\u001b[0m \u001b[32m44.4/44.4 kB\u001b[0m \u001b[31m2.9 MB/s\u001b[0m eta \u001b[36m0:00:00\u001b[0m\n",
            "\u001b[2K   \u001b[90m━━━━━━━━━━━━━━━━━━━━━━━━━━━━━━━━━━━━━━━━\u001b[0m \u001b[32m72.0/72.0 kB\u001b[0m \u001b[31m5.1 MB/s\u001b[0m eta \u001b[36m0:00:00\u001b[0m\n",
            "\u001b[?25h"
          ]
        }
      ],
      "source": [
        "!pip install -q google-adk"
      ]
    },
    {
      "cell_type": "code",
      "source": [
        "# Configurando a API Key do Google Gemini\n",
        "import os\n",
        "from google.colab import userdata\n",
        "\n",
        "os.environ[\"GOOGLE_API_KEY\"] = userdata.get('GEMINI_API_KEY')"
      ],
      "metadata": {
        "id": "IAsmAFrQu0eQ"
      },
      "execution_count": 2,
      "outputs": []
    },
    {
      "cell_type": "code",
      "source": [
        "from google.adk.agents import Agent\n",
        "from google.adk.runners import Runner\n",
        "from google.adk.sessions import InMemorySessionService\n",
        "from google.adk.tools import google_search\n",
        "from google.genai import types  # Para criar conteúdos (Content e Part)\n",
        "from IPython.display import display, Markdown # Para exibir texto formatado no Colab\n",
        "import warnings\n",
        "\n",
        "warnings.filterwarnings(\"ignore\")"
      ],
      "metadata": {
        "id": "E-Er2LMnu_qA"
      },
      "execution_count": 10,
      "outputs": []
    },
    {
      "cell_type": "code",
      "source": [
        "# Função auxiliar que envia uma mensagem para um agente via Runner e retorna a resposta final\n",
        "def call_agent(agent: Agent, message_text: str) -> str:\n",
        "    # Cria um serviço de sessão em memória\n",
        "    session_service = InMemorySessionService()\n",
        "    # Cria uma nova sessão (você pode personalizar os IDs conforme necessário)\n",
        "    session = session_service.create_session(app_name=agent.name, user_id=\"user1\", session_id=\"session1\")\n",
        "    # Cria um Runner para o agente\n",
        "    runner = Runner(agent=agent, app_name=agent.name, session_service=session_service)\n",
        "    # Cria o conteúdo da mensagem de entrada\n",
        "    content = types.Content(role=\"user\", parts=[types.Part(text=message_text)])\n",
        "\n",
        "    final_response = \"\"\n",
        "    # Itera assincronamente pelos eventos retornados durante a execução do agente\n",
        "    for event in runner.run(user_id=\"user1\", session_id=\"session1\", new_message=content):\n",
        "        if event.is_final_response():\n",
        "          for part in event.content.parts:\n",
        "            if part.text is not None:\n",
        "              final_response += part.text\n",
        "              final_response += \"\\n\"\n",
        "    return final_response"
      ],
      "metadata": {
        "id": "282cgQ7LvV_9"
      },
      "execution_count": 4,
      "outputs": []
    },
    {
      "cell_type": "code",
      "source": [
        "##########################################\n",
        "# --- Agente 1: Buscador de Notícias --- #\n",
        "##########################################\n",
        "def agente_buscador(topico, data_de_hoje):\n",
        "\n",
        "    buscador = Agent(\n",
        "        name=\"agente_buscador\",\n",
        "        model=\"gemini-2.0-flash\",\n",
        "        instruction=\"\"\"\n",
        "        Você é um assistente de pesquisa. A sua tarefa é usar a ferramenta de busca do google (google_search)\n",
        "        para recuperar as últimas notícias de lançamentos muito relevantes sobre o tópico abaixo.\n",
        "        Foque em no máximo 5 lançamentos relevantes, com base na quantidade e entusiasmo das notícias sobre ele.\n",
        "        Se um tema tiver poucas notícias ou reações entusiasmadas, é possível que ele não seja tão relevante assim\n",
        "        e pode ser substituído por outro que tenha mais.\n",
        "        Esses lançamentos relevantes devem ser atuais, de no máximo um mês antes da data de hoje.\n",
        "        \"\"\",\n",
        "        description=\"Agente que busca informações no Google\",\n",
        "        tools=[google_search]\n",
        "    )\n",
        "    # Prompt de entrada para o agente 1\n",
        "    entrada_do_agente_buscador = f\"Tópico: {topico}\\nData de hoje: {data_de_hoje}\"\n",
        "    # Executa o agente\n",
        "    lancamentos = call_agent(buscador, entrada_do_agente_buscador)\n",
        "    return lancamentos"
      ],
      "metadata": {
        "id": "Y82ST_Z5vZ4D"
      },
      "execution_count": 15,
      "outputs": []
    },
    {
      "cell_type": "code",
      "source": [
        "################################################\n",
        "# --- Agente 2: Planejador de posts --- #\n",
        "################################################\n",
        "def agente_planejador(topico, lancamentos_buscados):\n",
        "    planejador = Agent(\n",
        "        name=\"agente_planejador\",\n",
        "        model=\"gemini-2.0-flash\",\n",
        "        # Inserir as instruções do Agente Planejador #################################################\n",
        "        instruction=\"\"\"\n",
        "        Você é um planejador de conteúdo, especialista em redes sociais. Com base na lista de\n",
        "        lançamentos mais recentes e relevantes buscador, você deve:\n",
        "        usar a ferramenta de busca do Google (google_search) para criar um plano sobre\n",
        "        quais são os pontos mais relevantes que poderíamos abordar em um post sobre\n",
        "        cada um deles. Você também pode usar o (google_search) para encontrar mais\n",
        "        informações sobre os temas e aprofundar.\n",
        "        Ao final, você irá escolher o tema mais relevante entre eles com base nas suas pesquisas\n",
        "        e retornar esse tema, seus pontos mais relevantes, e um plano com os assuntos\n",
        "        a serem abordados no post que será escrito posteriormente.\n",
        "        \"\"\",\n",
        "        description=\"Agente que planeja posts\",\n",
        "        tools=[google_search]\n",
        "    )\n",
        "    # Prompt de entrada para o agente 2\n",
        "    entrada_do_agente_planejador = f\"Tópico:{topico}\\nLançamentos buscados: {lancamentos_buscados}\"\n",
        "    # Executa o agente\n",
        "    plano_do_post = call_agent(planejador, entrada_do_agente_planejador)\n",
        "    return plano_do_post"
      ],
      "metadata": {
        "id": "pVbFnhVLvhcz"
      },
      "execution_count": 14,
      "outputs": []
    },
    {
      "cell_type": "code",
      "source": [
        "######################################\n",
        "# --- Agente 3: Redator do Post --- #\n",
        "######################################\n",
        "def agente_redator(topico, plano_de_post):\n",
        "    redator = Agent(\n",
        "        name=\"agente_redator\",\n",
        "        model=\"gemini-2.5-pro-preview-03-25\",\n",
        "        instruction=\"\"\"\n",
        "            Você é um Redator Criativo especializado em criar posts virais para redes sociais.\n",
        "            Você escreve posts para a empresa Alura, a maior escola online de tecnologia do Brasil.\n",
        "            Utilize o tema fornecido no plano de post e os pontos mais relevantes fornecidos e, com base nisso,\n",
        "            escreva um rascunho de post para Instagram sobre o tema indicado.\n",
        "            O post deve ser engajador, informativo, com linguagem simples e incluir 2 a 4 hashtags no final.\n",
        "            \"\"\",\n",
        "        description=\"Agente redator de posts engajadores para Instagram\"\n",
        "    )\n",
        "    # Prompt de entrada para o agente 3\n",
        "    entrada_do_agente_redator = f\"Tópico: {topico}\\nPlano de post: {plano_de_post}\"\n",
        "    # Executa o agente\n",
        "    rascunho = call_agent(redator, entrada_do_agente_redator)\n",
        "    return rascunho"
      ],
      "metadata": {
        "id": "03AK4EzqvleK"
      },
      "execution_count": 16,
      "outputs": []
    },
    {
      "cell_type": "code",
      "source": [
        "##########################################\n",
        "# --- Agente 4: Revisor de Qualidade --- #\n",
        "##########################################\n",
        "def agente_revisor(topico, rascunho_gerado):\n",
        "    revisor = Agent(\n",
        "        name=\"agente_revisor\",\n",
        "        model=\"gemini-2.5-pro-preview-03-25\",\n",
        "        instruction=\"\"\"\n",
        "            Você é um Editor e Revisor de Conteúdo meticuloso, especializado em posts para redes sociais, com foco no Instagram.\n",
        "            Por ter um público jovem, entre 18 e 30 anos, use um tom de escrita adequado.\n",
        "            Revise o rascunho de post de Instagram abaixo sobre o tópico indicado, verificando clareza, concisão, correção e tom.\n",
        "            Se o rascunho estiver bom, responda apenas 'O rascunho está ótimo e pronto para publicar!'.\n",
        "            Caso haja problemas, aponte-os e sugira melhorias.\n",
        "            \"\"\",\n",
        "        description=\"Agente revisor de post para redes sociais.\"\n",
        "    )\n",
        "    # Prompt de entrada para o agente 4\n",
        "    entrada_do_agente_revisor = f\"Tópico: {topico}\\nRascunho: {rascunho_gerado}\"\n",
        "    # Executa o agente\n",
        "    texto_revisado = call_agent(revisor, entrada_do_agente_revisor)\n",
        "    return texto_revisado"
      ],
      "metadata": {
        "id": "UPgN4HAEvmWm"
      },
      "execution_count": 17,
      "outputs": []
    },
    {
      "cell_type": "code",
      "source": [
        "from datetime import date\n",
        "\n",
        "data_de_hoje = date.today().strftime(\"%d/%m/%Y\")"
      ],
      "metadata": {
        "id": "1tlSx09cvrc3"
      },
      "execution_count": 9,
      "outputs": []
    },
    {
      "cell_type": "code",
      "source": [
        "import textwrap # Para formatar melhor a saída de texto\n",
        "\n",
        "# Função auxiliar para exibir texto formatado em Markdown no Colab\n",
        "def to_markdown(text):\n",
        "  text = text.replace('•', '  *')\n",
        "  return Markdown(textwrap.indent(text, '> ', predicate=lambda _: True))"
      ],
      "metadata": {
        "id": "p89HTI7ov3rm"
      },
      "execution_count": 11,
      "outputs": []
    },
    {
      "cell_type": "code",
      "source": [
        "print(\"🚀 Iniciando o Sistema de Criação de Posts para Instagram com 4 Agentes 🚀\")\n",
        "\n",
        "# Obtendo o Tópico do Usuário\n",
        "topico = input(\"❓ Por favor, digite o TÓPICO sobre o qual você quer criar o post de tendências: \")\n",
        "\n",
        "# Lógica da colaborações dos agentes\n",
        "if not topico:\n",
        "    print(\"\\nVocê esqueceu de digitar o tópico!\")\n",
        "else:\n",
        "    print(f\"\\nMaravilha! Vamos então criar o post sobre novidades em {topico}\")\n",
        "\n",
        "    lancamentos_buscados = agente_buscador(topico, data_de_hoje)\n",
        "    print(\"\\n--- 📝 Resultado do Agente 1 (Buscador) ---\\n\")\n",
        "    display(to_markdown(lancamentos_buscados))\n",
        "    print(\"--------------------------------------------------------------\")\n",
        "\n",
        "    plano_de_post = agente_planejador(topico, lancamentos_buscados)\n",
        "    print(\"\\n--- 📝 Resultado do Agente 2 (Planejador) ---\\n\")\n",
        "    display(to_markdown(plano_de_post))\n",
        "    print(\"--------------------------------------------------------------\")\n",
        "\n",
        "    rascunho_de_post = agente_redator(topico, plano_de_post)\n",
        "    print(\"\\n--- 📝 Resultado do Agente 3 (Redator) ---\\n\")\n",
        "    display(to_markdown(rascunho_de_post))\n",
        "    print(\"--------------------------------------------------------------\")\n",
        "\n",
        "    post_final = agente_revisor(topico, rascunho_de_post)\n",
        "    print(\"\\n--- 📝 Resultado do Agente 4 (Revisor) ---\\n\")\n",
        "    display(to_markdown(post_final))\n",
        "    print(\"--------------------------------------------------------------\")"
      ],
      "metadata": {
        "colab": {
          "base_uri": "https://localhost:8080/",
          "height": 1000
        },
        "id": "j0cvXaFtwAT4",
        "outputId": "4b398baa-47d0-46f7-ade0-4da1997aae29"
      },
      "execution_count": 18,
      "outputs": [
        {
          "output_type": "stream",
          "name": "stdout",
          "text": [
            "🚀 Iniciando o Sistema de Criação de Posts para Instagram com 4 Agentes 🚀\n",
            "❓ Por favor, digite o TÓPICO sobre o qual você quer criar o post de tendências: IA\n",
            "Maravilha! Vamos então criar o post sobre novidades em IA\n",
            "\n",
            "--- 📝 Resultado do Agente 1 (Buscador) ---\n",
            "\n"
          ]
        },
        {
          "output_type": "display_data",
          "data": {
            "text/plain": [
              "<IPython.core.display.Markdown object>"
            ],
            "text/markdown": "> Para encontrar os lançamentos de IA mais relevantes e atuais, focarei em notícias dos últimos meses e darei prioridade àqueles com maior cobertura e entusiasmo.\n> \n> \n> Com base nas notícias mais recentes e relevantes sobre IA até maio de 2025, aqui estão alguns dos principais lançamentos e tendências:\n> \n> 1.  **Modelos de IA mais avançados da OpenAI (o3 e o4-mini):** A OpenAI lançou modelos de raciocínio mais avançados, como o3 e o4-mini, capazes de raciocinar antes de responder, usar ferramentas automaticamente e até navegar na web quando necessário. O modelo o4-mini-high suporta até 1 milhão de tokens, ideal para analisar documentos longos. A OpenAI também lançou o Codex CLI, um agente de código leve e open-source.\n> 2.  **Gemini 2.5 Pro e Flash do Google:** O Google apresentou o modelo Gemini Flash, que introduz o conceito de \"orçamento de pensamento\", equilibrando custo, velocidade e precisão, ideal para resumos, análises e interações complexas. Eles também revelaram o protocolo A2A (Agent2Agent), que permite a colaboração entre agentes de IA de diferentes plataformas.\n> 3.  **Meta AI App:** A Meta lançou seu primeiro aplicativo de assistente com IA, competindo com o ChatGPT. O aplicativo permite que os usuários criem e compartilhem posts com IA, além de responder às suas necessidades. Ele funciona principalmente por comandos de voz, com interações adaptadas a cada usuário.\n> 4.  **Aplicações de IA na Agrishow 2025:** A Agrishow 2025 destacou o uso crescente da IA no agronegócio, incluindo monitoramento e análise de dados, detecção e controle de pragas, previsão de clima e safras, otimização de irrigação e gestão da cadeia de suprimentos. A Solinftec apresentou a Refill Station, que permite que o Solix Ag Robotics opere de forma autônoma durante toda a safra.\n> 5.  **Tendências de IA da Microsoft para 2025:** A Microsoft identificou seis tendências de IA para 2025, incluindo modelos mais capazes, agentes de IA, IA para acelerar descobertas científicas, IA mais pessoal e útil, e a importância da curadoria de dados de alta qualidade. Eles também destacaram o crescimento do uso de IA generativa nas empresas.\n> \n> Além desses lançamentos específicos, algumas tendências gerais em IA incluem:\n> \n> *   **Acessibilidade e custos de treinamento mais baixos:** A IA está se tornando mais acessível devido à redução dos custos de treinamento e otimização de arquiteturas.\n> *   **Aprendizagem auto-supervisionada e IA explicável:** Essas tendências estão tornando os sistemas de IA mais robustos, interpretáveis e escaláveis.\n> *   **Integração da IA em diversas aplicações cotidianas:** A IA está sendo integrada em diversas aplicações, desde assistentes virtuais até ferramentas de criação de conteúdo visual.\n> *   **Adoção de agentes inteligentes:** Espera-se que 25% das empresas adotem agentes inteligentes em 2025.\n> \n> É importante notar que o campo da IA está em constante evolução, e novas ferramentas e modelos estão surgindo a todo momento.\n> \n"
          },
          "metadata": {}
        },
        {
          "output_type": "stream",
          "name": "stdout",
          "text": [
            "--------------------------------------------------------------\n",
            "\n",
            "--- 📝 Resultado do Agente 2 (Planejador) ---\n",
            "\n"
          ]
        },
        {
          "output_type": "display_data",
          "data": {
            "text/plain": [
              "<IPython.core.display.Markdown object>"
            ],
            "text/markdown": "> Com base nos lançamentos e tendências de IA que você listou, aqui está uma análise para planejar um post de mídia social impactante:\n> \n> **Análise dos Lançamentos:**\n> \n> 1.  **OpenAI (o3 e o4-mini):**\n>     *   **Relevância:** Alta, devido ao avanço das capacidades de raciocínio e automatização, além do suporte para documentos longos.\n>     *   **Potenciais Ângulos:**\n>         *   \"A OpenAI eleva a IA a outro nível: modelos que pensam por você e automatizam tarefas complexas.\"\n>         *   \"Como o o4-mini pode transformar a análise de documentos longos e a tomada de decisões?\"\n>         *   \"OpenAI Codex CLI: O que é e como ele pode revolucionar o desenvolvimento de código open-source?\"\n>     *   **Possíveis buscas para complementar:** \"Casos de uso OpenAI o4-mini\", \"OpenAI Codex CLI tutorial\".\n> 2.  **Google (Gemini 2.5 Pro e Flash):**\n>     *   **Relevância:** Alta, especialmente o Gemini Flash com o conceito de \"orçamento de pensamento\" e o protocolo A2A.\n>     *   **Potenciais Ângulos:**\n>         *   \"Google Gemini Flash: A IA que equilibra custo e precisão. O futuro dos resumos e análises rápidas?\"\n>         *   \"A2A (Agent2Agent): Como a colaboração entre IAs de diferentes plataformas vai mudar o jogo?\"\n>     *   **Possíveis buscas para complementar:** \"Comparativo Gemini Flash vs outros modelos\", \"Exemplos de uso A2A Google\".\n> 3.  **Meta AI App:**\n>     *   **Relevância:** Média, devido à entrada da Meta no mercado de assistentes de IA e a integração com a criação de conteúdo.\n>     *   **Potenciais Ângulos:**\n>         *   \"Meta AI App chegou para competir com o ChatGPT! Crie posts com IA e tenha um assistente pessoal no seu bolso.\"\n>         *   \"Comandos de voz e IA adaptada: o que esperar do aplicativo de assistente da Meta?\"\n>     *   **Possíveis buscas para complementar:** \"Reviews Meta AI App\", \"Tutorial Meta AI App\".\n> 4.  **Agrishow 2025:**\n>     *   **Relevância:** Média, mas com um nicho específico e crescente.\n>     *   **Potenciais Ângulos:**\n>         *   \"IA no Agro: como a tecnologia está transformando a produção de alimentos na Agrishow 2025.\"\n>         *   \"Solix Ag Robotics: o futuro da agricultura autônoma já é realidade?\"\n>     *   **Possíveis buscas para complementar:** \"Resultados Agrishow 2025\", \"Impacto da IA na agricultura\".\n> 5.  **Microsoft (Tendências de IA 2025):**\n>     *   **Relevância:** Alta, pois aponta para o futuro da IA.\n>     *   **Potenciais Ângulos:**\n>         *   \"As 6 tendências de IA da Microsoft para 2025 que você precisa conhecer.\"\n>         *   \"IA para ciência, agentes inteligentes e curadoria de dados: o que esperar do futuro da IA segundo a Microsoft?\"\n>     *   **Possíveis buscas para complementar:** \"Relatório completo tendências IA Microsoft 2025\", \"Aplicações práticas tendências IA Microsoft\".\n> \n> **Escolha do Tema Mais Relevante e Plano de Post:**\n> \n> Com base na análise, o tema mais relevante é a combinação dos **Modelos de IA da OpenAI (o3 e o4-mini) e do Google (Gemini 2.5 Pro e Flash)**. Eles representam avanços significativos e têm aplicações amplas.\n> \n> **Plano de Post:**\n> \n> *   **Título:** \"OpenAI vs Google: A Batalha da IA Acelera com Modelos Inovadores!\"\n> *   **Introdução (20% do post):**\n>     *   Contextualizar a rápida evolução da IA.\n>     *   Mencionar o lançamento dos modelos o3/o4-mini (OpenAI) e Gemini Flash (Google).\n>     *   Instigar o leitor a descobrir como esses modelos estão mudando o jogo.\n> *   **OpenAI (30% do post):**\n>     *   Explicar as capacidades de raciocínio e automatização dos modelos o3 e o4-mini.\n>     *   Destacar o suporte para análise de documentos longos e o potencial do Codex CLI.\n>     *   Usar exemplos práticos de como esses modelos podem ser utilizados.\n> *   **Google (30% do post):**\n>     *   Apresentar o conceito de \"orçamento de pensamento\" do Gemini Flash e como ele equilibra custo e precisão.\n>     *   Explicar o protocolo A2A e seu potencial para colaboração entre IAs.\n>     *   Mostrar como o Gemini Flash pode ser usado em resumos, análises e interações complexas.\n> *   **Comparativo e Conclusão (20% do post):**\n>     *   Comparar os pontos fortes de cada modelo e suas aplicações.\n>     *   Discutir como esses avanços afetam o futuro da IA e o mercado.\n>     *   Incentivar o debate nos comentários: \"Qual desses modelos você acha mais promissor? Deixe sua opinião!\"\n> *   **Call to Action:**\n>     *   \"Compartilhe este post para que mais pessoas fiquem por dentro das novidades da IA!\"\n>     *   \"Siga nossa página para mais conteúdo sobre tecnologia e inovação.\"\n> \n> Este plano fornece uma estrutura para um post envolvente e informativo, capaz de atrair a atenção do público e gerar discussões relevantes.\n> \n"
          },
          "metadata": {}
        },
        {
          "output_type": "stream",
          "name": "stdout",
          "text": [
            "--------------------------------------------------------------\n",
            "\n",
            "--- 📝 Resultado do Agente 3 (Redator) ---\n",
            "\n"
          ]
        },
        {
          "output_type": "display_data",
          "data": {
            "text/plain": [
              "<IPython.core.display.Markdown object>"
            ],
            "text/markdown": "> Ok, aqui está um rascunho de post para o Instagram da Alura, seguindo o plano e buscando engajamento:\n> \n> ---\n> \n> **[IMAGEM/VÍDEO RECOMENDADO: Uma arte gráfica dinâmica comparando logos da OpenAI e Google com ícones representando IA, raciocínio, velocidade e colaboração.]**\n> \n> **Texto do Post:**\n> \n> 🤖 OpenAI vs Google: A Batalha das IAs está PEGANDO FOGO! 🔥\n> \n> O universo da IA não para! 🤯 Você piscou e a OpenAI e o Google lançaram modelos que prometem revolucionar TUDO. Estamos falando do o3/o4-mini e do Gemini Flash! 🚀\n> \n> Mas o que isso significa NA PRÁTICA? 🤔\n> \n> ✨ **Do lado da OpenAI:** Os modelos o3 e o4-mini chegam turbinados! Pense em IAs com mais capacidade de raciocínio, que automatizam tarefas complexas e até analisam documentos gigantescos (adeus, leitura de contratos intermináveis? 🙏). E para devs, o Codex CLI promete ser um aliado poderoso na hora de codar!\n> \n> ⚡ **Na resposta do Google:** O Gemini Flash traz o conceito inovador de \"orçamento de pensamento\" 🧠. Ele equilibra custo e precisão, sendo perfeito para resumos rápidos e análises eficientes. Além disso, o protocolo A2A (Agent2Agent) abre portas para IAs de diferentes plataformas COLABORAREM entre si. Já imaginou o potencial disso? 🤝\n> \n> 🥊 **E aí, quem leva?** Enquanto a OpenAI aposta em poder bruto e automação, o Google foca na eficiência e colaboração. O resultado? Ferramentas cada vez mais incríveis chegando até você!\n> \n> O futuro da tecnologia está sendo moldado AGORA, e esses avanços impactam desde o desenvolvimento de software até a forma como consumimos informação.\n> \n> 🤔 Na sua opinião, qual desses avanços vai impactar mais a sua vida ou trabalho? Conta pra gente nos comentários! 👇\n> \n> Curtiu ficar por dentro das novidades? Compartilhe este post com a galera que AMA tecnologia! ✨ E siga a @aluraonline para não perder nada sobre IA e inovação! 😉\n> \n> #InteligenciaArtificial #Tecnologia #Inovacao #Google #OpenAI\n"
          },
          "metadata": {}
        },
        {
          "output_type": "stream",
          "name": "stdout",
          "text": [
            "--------------------------------------------------------------\n",
            "\n",
            "--- 📝 Resultado do Agente 4 (Revisor) ---\n",
            "\n"
          ]
        },
        {
          "output_type": "display_data",
          "data": {
            "text/plain": [
              "<IPython.core.display.Markdown object>"
            ],
            "text/markdown": "> O rascunho tem uma ótima base, com um tom engajador e formato adequado para o Instagram e o público jovem! No entanto, há alguns pontos de precisão técnica que precisam de ajuste para garantir a correção da informação:\n> \n> 1.  **Nomes dos Modelos OpenAI:** A referência a \"o3/o4-mini\" está incorreta. O modelo principal anunciado recentemente pela OpenAI foi o **GPT-4o** (o \"o\" significa \"omni\"). Ele é mais rápido, mais barato e integra capacidades de texto, áudio e visão. Não existe um \"o3\" ou \"o4-mini\" nesses termos.\n>     *   **Sugestão:** Substituir \"o3/o4-mini\" por \"**GPT-4o**\" ou, de forma mais genérica, \"novos modelos como o GPT-4o\".\n> \n> 2.  **Referência ao Codex CLI:** Embora o GPT-4o melhore as capacidades de codificação, mencionar especificamente o \"Codex CLI\" pode não ser a forma mais precisa de descrever o anúncio recente, que teve mais foco nas capacidades multimodais e na disponibilidade.\n>     *   **Sugestão:** Trocar \"E para devs, o Codex CLI promete ser um aliado poderoso na hora de codar!\" por algo como \"E para devs, as **melhorias na API e a velocidade** prometem turbinar o desenvolvimento!\" ou focar nas capacidades gerais de auxílio à codificação aprimoradas.\n> \n> 3.  **Protocolo A2A (Agent2Agent) do Google:** A menção ao \"protocolo A2A (Agent2Agent)\" pode ser uma simplificação ou interpretação. O Google apresentou o **Project Astra** e falou sobre o futuro dos agentes de IA, incluindo a capacidade de colaborarem, mas \"A2A\" não foi um termo oficial amplamente divulgado como um protocolo específico neste contexto recente (Google I/O).\n>     *   **Sugestão:** Reformular para algo como: \"Além disso, a visão do Google com o **Project Astra** e o avanço dos **agentes de IA** abre portas para IAs colaborarem entre si de formas inovadoras. Já imaginou o potencial disso? 🤝\" ou \"Além disso, o Google aposta em **agentes de IA mais inteligentes e colaborativos**, capazes de realizar tarefas complexas no seu lugar. Já imaginou o potencial disso? 🤝\".\n> \n> **Resumo das Sugestões:**\n> \n> *   Corrigir os nomes dos modelos da OpenAI para **GPT-4o**.\n> *   Ajustar a menção ao benefício para desenvolvedores da OpenAI para algo mais geral ou focado nas melhorias de API/velocidade anunciadas.\n> *   Reformular a parte sobre a colaboração de IAs do Google, talvez mencionando o **Project Astra** ou o conceito de **agentes de IA colaborativos** em vez do \"protocolo A2A\".\n> \n> Com essas correções, o post ficará mais preciso tecnicamente, mantendo o tom e o engajamento excelentes!\n"
          },
          "metadata": {}
        },
        {
          "output_type": "stream",
          "name": "stdout",
          "text": [
            "--------------------------------------------------------------\n"
          ]
        }
      ]
    }
  ]
}